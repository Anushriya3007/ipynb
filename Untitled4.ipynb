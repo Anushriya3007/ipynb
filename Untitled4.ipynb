{
 "cells": [
  {
   "cell_type": "code",
   "execution_count": 1,
   "id": "a377a892-c12b-484e-ad2d-59ea9cbfaba0",
   "metadata": {},
   "outputs": [],
   "source": [
    "import pandas as pd    "
   ]
  },
  {
   "cell_type": "code",
   "execution_count": 4,
   "id": "52126696-1026-4efb-b976-5db2c758db69",
   "metadata": {},
   "outputs": [],
   "source": [
    "import random"
   ]
  },
  {
   "cell_type": "code",
   "execution_count": 6,
   "id": "36f17410-9391-4899-b602-91417fe50ff4",
   "metadata": {},
   "outputs": [
    {
     "name": "stdout",
     "output_type": "stream",
     "text": [
      "BFS Traversal Order:\n",
      "ABCDEF"
     ]
    }
   ],
   "source": [
    "# Define the graph/tree structure using an adjacency list\n",
    "from collections import deque\n",
    "graph={\n",
    "        'A':['B','C'],  # Node A connects to B and C\n",
    "        'B':['D','E'],  # Node B connects to D and E\n",
    "        'C':['F'],      # Node C connects to F\n",
    "        'D':[],         # Node D is a leaf (no children)A\n",
    "        'E':[],         # Node E is a leaf (no children)\n",
    "        'F':[]          # Node F is a leaf (no children)\n",
    "}\n",
    "\n",
    "def bfs(graph,start_node):\n",
    "    # Perform BFS on a graph starting from the given node\n",
    "    visited=set() # To keep track of visited nodes\n",
    "    queue=deque([start_node]) # Queue to store nodes to visit, starting with the root node\n",
    "    \n",
    "    print(\"BFS Traversal Order:\")\n",
    "    while queue: # Continue untill the queue is empty\n",
    "        # Pop the first node from the queue\n",
    "        current_node=queue.popleft()\n",
    "\n",
    "        # If the node has not been visited, process it\n",
    "        if current_node not in visited:\n",
    "            print(current_node,end=\"\") # Process the node (print it)\n",
    "            visited.add(current_node) # Mark the node as visited\n",
    "\n",
    "            # Add all unvisited neighbors of the current node to the queue\n",
    "            for neighbor in graph[current_node]:\n",
    "                if neighbor not in visited:\n",
    "                    queue.append(neighbor)\n",
    "\n",
    "# Call BFS starting from node 'A'\n",
    "bfs(graph,'A')\n"
   ]
  },
  {
   "cell_type": "code",
   "execution_count": null,
   "id": "dfd4fcac-9103-4ae5-9072-8ff647cf476f",
   "metadata": {},
   "outputs": [],
   "source": []
  }
 ],
 "metadata": {
  "kernelspec": {
   "display_name": "Python [conda env:base] *",
   "language": "python",
   "name": "conda-base-py"
  },
  "language_info": {
   "codemirror_mode": {
    "name": "ipython",
    "version": 3
   },
   "file_extension": ".py",
   "mimetype": "text/x-python",
   "name": "python",
   "nbconvert_exporter": "python",
   "pygments_lexer": "ipython3",
   "version": "3.12.4"
  }
 },
 "nbformat": 4,
 "nbformat_minor": 5
}
