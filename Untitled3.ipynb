{
 "cells": [
  {
   "cell_type": "code",
   "execution_count": 1,
   "id": "1ac1585f-353d-4767-a431-603f1dcb0038",
   "metadata": {},
   "outputs": [],
   "source": [
    "import pandas as pd"
   ]
  },
  {
   "cell_type": "code",
   "execution_count": 2,
   "id": "b2b51b18-0154-4ce7-8ae2-369a2aad2ad3",
   "metadata": {},
   "outputs": [],
   "source": [
    "import random"
   ]
  },
  {
   "cell_type": "code",
   "execution_count": 3,
   "id": "0d9d7345-1025-4522-aef4-ae1bf43b137d",
   "metadata": {},
   "outputs": [],
   "source": [
    "def display(room):\n",
    "    print(room)"
   ]
  },
  {
   "cell_type": "code",
   "execution_count": 4,
   "id": "627dab15-64cb-4055-95cc-6dc0f20ec3b1",
   "metadata": {},
   "outputs": [
    {
     "name": "stdout",
     "output_type": "stream",
     "text": [
      "All thr rooms are dirty\n",
      "[[1, 1, 1, 1], [1, 1, 1, 1], [1, 1, 1, 1], [1, 1, 1, 1]]\n"
     ]
    }
   ],
   "source": [
    "room = [\n",
    "    [1,1,1,1],\n",
    "    [1,1,1,1],\n",
    "    [1,1,1,1],\n",
    "    [1,1,1,1],\n",
    "    ]\n",
    "print(\"All thr rooms are dirty\")\n",
    "display(room)"
   ]
  },
  {
   "cell_type": "code",
   "execution_count": 5,
   "id": "520a9ad6-cde1-4773-913a-3df20c45bcc7",
   "metadata": {},
   "outputs": [
    {
     "name": "stdout",
     "output_type": "stream",
     "text": [
      "[[1, 1, 1, 1], [1, 1, 1, 1], [1, 1, 1, 1], [1, 1, 1, 1]]\n"
     ]
    }
   ],
   "source": [
    "display(room)"
   ]
  },
  {
   "cell_type": "code",
   "execution_count": 6,
   "id": "5d74f9af-a402-4768-bed4-c34db1f22c1d",
   "metadata": {},
   "outputs": [
    {
     "name": "stdout",
     "output_type": "stream",
     "text": [
      "All the rooms are dirty\n",
      "[[1, 1, 1, 1], [1, 1, 1, 1], [1, 1, 1, 1], [1, 1, 1, 1]]\n"
     ]
    }
   ],
   "source": [
    "print(\"All the rooms are dirty\")\n",
    "display(room)"
   ]
  },
  {
   "cell_type": "code",
   "execution_count": 7,
   "id": "40b39e7b-50a3-4027-a20e-39e868c43306",
   "metadata": {},
   "outputs": [],
   "source": [
    "y=0\n",
    "x=0"
   ]
  },
  {
   "cell_type": "code",
   "execution_count": 8,
   "id": "d977aeb5-dfca-452c-afae-49ea4113e6ff",
   "metadata": {},
   "outputs": [
    {
     "name": "stdout",
     "output_type": "stream",
     "text": [
      "Before cleaning the room,I detect all of these random dirts\n",
      "[[1, 1, 1, 1], [0, 1, 1, 1], [0, 1, 1, 1], [0, 1, 1, 1]]\n"
     ]
    }
   ],
   "source": [
    "while x < 4:\n",
    "    room[x][y]=(random.choice)([0,1])\n",
    "    x+=1\n",
    "    y=0\n",
    "\n",
    "print(\"Before cleaning the room,I detect all of these random dirts\")\n",
    "display(room)"
   ]
  },
  {
   "cell_type": "code",
   "execution_count": 9,
   "id": "58dcdb62-a461-464f-b3e6-b304e39979a8",
   "metadata": {},
   "outputs": [
    {
     "name": "stdout",
     "output_type": "stream",
     "text": [
      "vaccum is in the location now 0 0\n",
      "cleaned 0 0\n",
      "vaccum is in the location now 0 1\n",
      "cleaned 0 1\n",
      "vaccum is in the location now 0 2\n",
      "cleaned 0 2\n",
      "vaccum is in the location now 0 3\n",
      "cleaned 0 3\n",
      "vaccum is in the location now 1 1\n",
      "cleaned 1 1\n",
      "vaccum is in the location now 1 2\n",
      "cleaned 1 2\n",
      "vaccum is in the location now 1 3\n",
      "cleaned 1 3\n",
      "vaccum is in the location now 2 1\n",
      "cleaned 2 1\n",
      "vaccum is in the location now 2 2\n",
      "cleaned 2 2\n",
      "vaccum is in the location now 2 3\n",
      "cleaned 2 3\n",
      "vaccum is in the location now 3 1\n",
      "cleaned 3 1\n",
      "vaccum is in the location now 3 2\n",
      "cleaned 3 2\n",
      "vaccum is in the location now 3 3\n",
      "cleaned 3 3\n",
      "Room is clean now .Thanks for using the robot vaccum cleaner!\n",
      "[[0, 0, 0, 0], [0, 0, 0, 0], [0, 0, 0, 0], [0, 0, 0, 0]]\n",
      "performance= 18.75 %\n"
     ]
    }
   ],
   "source": [
    "x = 0\n",
    "y = 0\n",
    "z = 0\n",
    "while x<4:\n",
    "    while y<4:\n",
    "        if room[x][y]==1:\n",
    "            print(\"vaccum is in the location now\",x,y)\n",
    "            room[x][y] =0\n",
    "            print(\"cleaned\",x,y)\n",
    "            z+=1\n",
    "        y+=1\n",
    "    x+=1\n",
    "    y=0\n",
    "\n",
    "performance = (100 -((z/16)*100))\n",
    "print(\"Room is clean now .Thanks for using the robot vaccum cleaner!\")\n",
    "display(room)\n",
    "print('performance=',performance,'%')"
   ]
  },
  {
   "cell_type": "code",
   "execution_count": null,
   "id": "038e4b3a-6e61-4fd7-8b96-fa552321c5fb",
   "metadata": {},
   "outputs": [],
   "source": []
  }
 ],
 "metadata": {
  "kernelspec": {
   "display_name": "Python [conda env:base] *",
   "language": "python",
   "name": "conda-base-py"
  },
  "language_info": {
   "codemirror_mode": {
    "name": "ipython",
    "version": 3
   },
   "file_extension": ".py",
   "mimetype": "text/x-python",
   "name": "python",
   "nbconvert_exporter": "python",
   "pygments_lexer": "ipython3",
   "version": "3.12.4"
  }
 },
 "nbformat": 4,
 "nbformat_minor": 5
}
