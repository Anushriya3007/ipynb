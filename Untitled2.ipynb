{
  "nbformat": 4,
  "nbformat_minor": 0,
  "metadata": {
    "colab": {
      "provenance": []
    },
    "kernelspec": {
      "name": "python3",
      "display_name": "Python 3"
    },
    "language_info": {
      "name": "python"
    }
  },
  "cells": [
    {
      "cell_type": "code",
      "execution_count": null,
      "metadata": {
        "colab": {
          "base_uri": "https://localhost:8080/"
        },
        "id": "7uzNDqSDVP26",
        "outputId": "b4d4eb13-9921-4ca0-b5a4-abdc513a50bb"
      },
      "outputs": [
        {
          "output_type": "stream",
          "name": "stdout",
          "text": [
            "Requirement already satisfied: pandas in /usr/local/lib/python3.11/dist-packages (2.2.2)\n",
            "Requirement already satisfied: numpy>=1.23.2 in /usr/local/lib/python3.11/dist-packages (from pandas) (2.0.2)\n",
            "Requirement already satisfied: python-dateutil>=2.8.2 in /usr/local/lib/python3.11/dist-packages (from pandas) (2.8.2)\n",
            "Requirement already satisfied: pytz>=2020.1 in /usr/local/lib/python3.11/dist-packages (from pandas) (2025.1)\n",
            "Requirement already satisfied: tzdata>=2022.7 in /usr/local/lib/python3.11/dist-packages (from pandas) (2025.1)\n",
            "Requirement already satisfied: six>=1.5 in /usr/local/lib/python3.11/dist-packages (from python-dateutil>=2.8.2->pandas) (1.17.0)\n"
          ]
        }
      ],
      "source": [
        "!pip install pandas"
      ]
    },
    {
      "cell_type": "code",
      "source": [
        "import pandas as pd\n"
      ],
      "metadata": {
        "id": "GEUZNUHHVXNC"
      },
      "execution_count": null,
      "outputs": []
    },
    {
      "cell_type": "code",
      "source": [
        "def reflex_vaccum_agent(location,status):\n",
        "  if status==\"Dirty\":\n",
        "    return \"suck\"\n",
        "  elif location==\"A\":\n",
        "    return \"right\"\n",
        "  elif location==\"B\":\n",
        "    return \"left\""
      ],
      "metadata": {
        "id": "QwE4d3ZAVklZ"
      },
      "execution_count": null,
      "outputs": []
    },
    {
      "cell_type": "code",
      "source": [
        "location=\"A\"\n",
        "status=\"Dirty\"\n",
        "action=reflex_vaccum_agent(location,status)\n",
        "print(f\"Location:{location},Status:{status},Action:{action}\")"
      ],
      "metadata": {
        "colab": {
          "base_uri": "https://localhost:8080/"
        },
        "id": "AeOYlwKWV1l6",
        "outputId": "02f57df2-0fcf-4e71-d8f5-76ddca78f58a"
      },
      "execution_count": null,
      "outputs": [
        {
          "output_type": "stream",
          "name": "stdout",
          "text": [
            "Location:A,Status:Dirty,Action:suck\n"
          ]
        }
      ]
    },
    {
      "cell_type": "code",
      "source": [
        "def reflex_vaccum_agent(location,status):\n",
        "  if status==\"Dirty\":\n",
        "    return \"suck\"\n",
        "  elif location==\"A\":\n",
        "    return \"right\"\n",
        "  elif location==\"B\":\n",
        "    return \"left\""
      ],
      "metadata": {
        "id": "CvLZlBSgXitr"
      },
      "execution_count": null,
      "outputs": []
    },
    {
      "cell_type": "code",
      "source": [
        "location=\"A\"\n",
        "status=\"Dirty\"\n",
        "locations=[\"A\",\"B\"]\n",
        "for _ in range(5):\n",
        "  action=reflex_vaccum_agent(location,status)\n",
        "  print(f\"Location:{location},Status:{status},Action:{action}\")\n",
        "  if action==\"suck\":\n",
        "    status=\"Clean\"\n",
        "  elif action==\"right\":\n",
        "    location=\"B\"\n",
        "  elif action==\"left\":\n",
        "    location=\"A\""
      ],
      "metadata": {
        "colab": {
          "base_uri": "https://localhost:8080/"
        },
        "id": "ySiuO28RYIaK",
        "outputId": "18d02d1a-d0cc-47cc-a977-02660e23ba45"
      },
      "execution_count": null,
      "outputs": [
        {
          "output_type": "stream",
          "name": "stdout",
          "text": [
            "Location:A,Status:Dirty,Action:suck\n",
            "Location:A,Status:Clean,Action:right\n",
            "Location:B,Status:Clean,Action:left\n",
            "Location:A,Status:Clean,Action:right\n",
            "Location:B,Status:Clean,Action:left\n"
          ]
        }
      ]
    },
    {
      "cell_type": "code",
      "source": [
        " def move_towards_goal(position,goal):\n",
        "  while position < goal:\n",
        "    position += 1\n",
        "    print(f\"Current Position: {position}\")\n",
        "  print(\"Reached the goal!\")\n"
      ],
      "metadata": {
        "id": "fnp1BajkYZHs"
      },
      "execution_count": null,
      "outputs": []
    },
    {
      "cell_type": "code",
      "source": [
        "initial_position = 0\n",
        "goal_position = 5\n",
        "move_towards_goal(initial_position, goal_position)"
      ],
      "metadata": {
        "colab": {
          "base_uri": "https://localhost:8080/"
        },
        "id": "9nUmaDyGaElD",
        "outputId": "6dc0d1da-b79f-443b-c824-2244f44c9590"
      },
      "execution_count": null,
      "outputs": [
        {
          "output_type": "stream",
          "name": "stdout",
          "text": [
            "Current Position: 1\n",
            "Current Position: 2\n",
            "Current Position: 3\n",
            "Current Position: 4\n",
            "Current Position: 5\n",
            "Reached the goal!\n"
          ]
        }
      ]
    },
    {
      "cell_type": "code",
      "source": [
        "def display(room):\n",
        "  print(room)\n",
        "\n",
        "  room=[\n",
        "      [1,1,1,1],\n",
        "      [1,1,1,1],\n",
        "      [1,1,1,1],\n",
        "      [1,1,1,1],\n",
        "  ]\n",
        "  print(\"All the rooms are dirty\")\n",
        "  display(room)\n"
      ],
      "metadata": {
        "id": "tOB7_GXKaRz7"
      },
      "execution_count": 1,
      "outputs": []
    },
    {
      "cell_type": "code",
      "source": [],
      "metadata": {
        "id": "lUorrl_DbrUj"
      },
      "execution_count": null,
      "outputs": []
    }
  ]
}